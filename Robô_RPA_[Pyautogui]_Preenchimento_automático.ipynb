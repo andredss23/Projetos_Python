{
  "cells": [
    {
      "cell_type": "markdown",
      "metadata": {
        "id": "view-in-github",
        "colab_type": "text"
      },
      "source": [
        "<a href=\"https://colab.research.google.com/github/andredss23/Projetos_Python/blob/main/Rob%C3%B4_RPA_%5BPyautogui%5D_Preenchimento_autom%C3%A1tico.ipynb\" target=\"_parent\"><img src=\"https://colab.research.google.com/assets/colab-badge.svg\" alt=\"Open In Colab\"/></a>"
      ]
    },
    {
      "cell_type": "code",
      "execution_count": null,
      "id": "328bc6de",
      "metadata": {
        "id": "328bc6de"
      },
      "outputs": [],
      "source": [
        "import pyautogui as pg\n",
        "import webbrowser\n",
        "import time\n",
        "import pandas as pd"
      ]
    },
    {
      "cell_type": "code",
      "execution_count": null,
      "id": "c1abfd8f",
      "metadata": {
        "id": "c1abfd8f"
      },
      "outputs": [],
      "source": [
        "pg.PAUSE = 0.9"
      ]
    },
    {
      "cell_type": "code",
      "execution_count": null,
      "id": "4b0f0271",
      "metadata": {
        "id": "4b0f0271"
      },
      "outputs": [],
      "source": [
        "tabela = pd.read_excel(\"tabela.xlsx\") # Inserir nome da tabela com os dados a serem preenchidos\n",
        "display(tabela)"
      ]
    },
    {
      "cell_type": "code",
      "execution_count": null,
      "id": "86d5e993",
      "metadata": {
        "id": "86d5e993"
      },
      "outputs": [],
      "source": [
        "pg.press(\"win\")\n",
        "pg.write(\"google\")\n",
        "pg.press(\"enter\")\n",
        "pg.typewrite(\"site\") # preencher o nome do site completo com http://\n",
        "pg.press(\"enter\")\n",
        "pg.press(\"tab\", presses=7)\n",
        "pg.press(\"enter\")\n",
        "pg.press(\"tab\", presses=40)\n",
        "pg.press(\"enter\")\n",
        "time.sleep(5)"
      ]
    },
    {
      "cell_type": "code",
      "execution_count": null,
      "id": "529de808",
      "metadata": {
        "id": "529de808"
      },
      "outputs": [],
      "source": [
        "for i, contrato in enumerate (tabela[\"contratos\"]):\n",
        "\n",
        "    pg.hotkey('ctrl', 'f')\n",
        "    pg.typewrite(contrato)\n",
        "    pg.press('esc')\n",
        "    pg.press('tab')\n",
        "    pg.press('space')"
      ]
    }
  ],
  "metadata": {
    "kernelspec": {
      "display_name": "Python 3 (ipykernel)",
      "language": "python",
      "name": "python3"
    },
    "language_info": {
      "codemirror_mode": {
        "name": "ipython",
        "version": 3
      },
      "file_extension": ".py",
      "mimetype": "text/x-python",
      "name": "python",
      "nbconvert_exporter": "python",
      "pygments_lexer": "ipython3",
      "version": "3.9.12"
    },
    "colab": {
      "provenance": [],
      "include_colab_link": true
    }
  },
  "nbformat": 4,
  "nbformat_minor": 5
}