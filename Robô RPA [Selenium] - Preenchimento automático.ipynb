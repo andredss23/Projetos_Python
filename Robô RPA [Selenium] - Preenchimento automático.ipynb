{
  "cells": [
    {
      "cell_type": "markdown",
      "metadata": {
        "id": "view-in-github",
        "colab_type": "text"
      },
      "source": [
        "<a href=\"https://colab.research.google.com/github/andredss23/Projetos_Python/blob/main/Rob%C3%B4%20%5BSelenium%5D%20-%20Preenchimento%20autom%C3%A1tico.ipynb\" target=\"_parent\"><img src=\"https://colab.research.google.com/assets/colab-badge.svg\" alt=\"Open In Colab\"/></a>"
      ]
    },
    {
      "cell_type": "code",
      "execution_count": null,
      "id": "57cfff3b",
      "metadata": {
        "id": "57cfff3b"
      },
      "outputs": [],
      "source": [
        "senha = \"\" # Inserir sua senha caso o site que for utilizar necessite de senha"
      ]
    },
    {
      "cell_type": "code",
      "execution_count": null,
      "id": "1b0a7975",
      "metadata": {
        "id": "1b0a7975"
      },
      "outputs": [],
      "source": [
        "from selenium.webdriver.chrome.service import Service\n",
        "from selenium.webdriver.chrome.options import Options\n",
        "from selenium.webdriver.common.by import By\n",
        "from selenium.webdriver.common.keys import Keys\n",
        "from selenium.webdriver.remote.webelement import WebElement\n",
        "from selenium.webdriver.support.ui import Select\n",
        "from selenium.webdriver.support.ui import WebDriverWait\n",
        "from selenium.webdriver.support import expected_conditions\n",
        "import pandas as pd\n",
        "\n",
        "from selenium import webdriver\n",
        "import time"
      ]
    },
    {
      "cell_type": "code",
      "execution_count": null,
      "id": "c0513695",
      "metadata": {
        "scrolled": true,
        "id": "c0513695"
      },
      "outputs": [],
      "source": [
        "tabela = pd.read_excel(\"tabela.xlsx\") # Inserir nome da tabela com os dados a serem preenchidos\n",
        "display(tabela)"
      ]
    },
    {
      "cell_type": "code",
      "execution_count": null,
      "id": "7b6fe9af",
      "metadata": {
        "id": "7b6fe9af"
      },
      "outputs": [],
      "source": [
        "# Login MDO\n",
        "navegador = webdriver.Chrome()\n",
        "navegador.maximize_window()\n",
        "navegador.get(\"\") # preencher o nome do endereço completo com http://\n",
        "time.sleep(1)\n",
        "navegador.find_element('name','email').send_keys(\"\") # Inserir seu email caso necessite de login\n",
        "navegador.implicitly_wait(5)\n",
        "navegador.find_element('name',\"password\").send_keys(senha)\n",
        "\n",
        "# Selecionar para criar lead\n",
        "navegador.find_element('xpath','//*[@id=\"ember359\"]/form/div[1]/button').click() # Especificar o xpath\n",
        "navegador.find_element('id','ember505').click()\n",
        "navegador.get(\"site\") # preencher o nome do endereço completo com http://"
      ]
    },
    {
      "cell_type": "code",
      "execution_count": null,
      "id": "54acf05a",
      "metadata": {
        "id": "54acf05a"
      },
      "outputs": [],
      "source": [
        "for i, cpf in enumerate (tabela[\"cpf\"]):\n",
        "    email = tabela.loc[i, \"email\"]\n",
        "    nome = tabela.loc[i, \"nome_completo\"]\n",
        "    data_nascimento = tabela.loc[i, \"data_nascimento\"]\n",
        "    ddd = tabela.loc[i, \"ddd_celular\"]\n",
        "    telefone = tabela.loc[i, \"telefone_celular\"]\n",
        "    profissao = tabela.loc[i, \"situacao_profissional\"]\n",
        "    motivo = tabela.loc[i, \"motivo\"]\n",
        "    valor_emprestimo = tabela.loc[i, \"valor_emprestimo\"]\n",
        "    prazo = tabela.loc[i, \"prazo\"]\n",
        "    renda = tabela.loc[i, \"renda_mensal\"]\n",
        "    cep = tabela.loc[i, \"cep\"]\n",
        "    endereco = tabela.loc[i, \"rua_imovel\"]\n",
        "    numero = tabela.loc[i, \"numero_imovel\"]\n",
        "    complemento = tabela.loc[i, \"complemento_imovel\"]\n",
        "    bairro = tabela.loc[i, \"bairro_imovel\"]\n",
        "    cidade = tabela.loc[i, \"cidade_imovel\"]\n",
        "    estado = tabela.loc[i, \"estado_imovel\"]\n",
        "    tipo = tabela.loc[i, \"tipo_imovel\"]\n",
        "    valor_imovel = tabela.loc[i, \"valor_imovel\"]\n",
        "    divida_imovel = tabela.loc[i, \"divida_imovel\"]\n",
        "    matricula = tabela.loc[i, \"possui_matricula\"]\n",
        "\n",
        "    # Dados de valores\n",
        "    navegador.find_element('name',\"intended_credit\").send_keys(str(valor_emprestimo)+\"00\")\n",
        "    navegador.find_element('name',\"family_monthly_income\").send_keys(str(renda)+\"00\")\n",
        "    navegador.find_element('name',\"real_estate_value\").send_keys(str(valor_imovel)+\"00\")\n",
        "    navegador.find_element('name',\"real_estate_debt\").send_keys(str(divida_imovel)+\"00\")\n",
        "\n",
        "    # Dados Pessoais\n",
        "    navegador.find_element('name',\"cpf\").send_keys(cpf)\n",
        "    navegador.find_element('name',\"email\").send_keys(email)\n",
        "    navegador.find_element('name',\"full_name\").send_keys(nome)\n",
        "    navegador.find_element('name',\"birth_date\").send_keys(str(data_nascimento))\n",
        "    navegador.find_element('name',\"contact_cellphone_code\").send_keys(str(ddd))\n",
        "    navegador.find_element('name',\"contact_cellphone\").send_keys(str(telefone))\n",
        "    navegador.find_element('name',\"financing_time_months\").send_keys(str(prazo))\n",
        "    navegador.find_element('name',\"real_estate_zip_code\").send_keys(str(cep))\n",
        "    navegador.find_element('name',\"real_estate_address\").send_keys(endereco)\n",
        "    navegador.find_element('name',\"real_estate_number\").send_keys(str(numero))\n",
        "    navegador.find_element('name',\"real_estate_neighborhood\").send_keys(bairro)\n",
        "    navegador.find_element('name',\"real_estate_city\").send_keys(cidade)\n",
        "\n",
        "    # Selecionar Item de Menu\n",
        "    #navegador.find_element('xpath','//*[@id=\"ember1301\"]/input[2]').send_keys(profissao)\n",
        "    navegador.find_element('xpath','//*[@id=\"ember1161\"]/input[2]').send_keys(profissao)\n",
        "\n",
        "    #navegador.find_element('xpath','//*[@id=\"ember1309\"]/input[2]').send_keys(motivo)\n",
        "    navegador.find_element('xpath','//*[@id=\"ember1169\"]/input[2]').send_keys(motivo)\n",
        "\n",
        "    #navegador.find_element('xpath','//*[@id=\"ember1339\"]/input[2]').send_keys(estado)\n",
        "    navegador.find_element('xpath','//*[@id=\"ember1199\"]/input[2]').send_keys(estado)\n",
        "\n",
        "    #navegador.find_element('xpath','//*[@id=\"ember1368\"]/input[2]').send_keys(tipo)\n",
        "    navegador.find_element('xpath','//*[@id=\"ember1228\"]/input[2]').send_keys(tipo)\n",
        "\n",
        "    #navegador.find_element('xpath','//*[@id=\"ember1478\"]/input[2]').send_keys(matricula)\n",
        "    navegador.find_element('xpath','//*[@id=\"ember1342\"]/input[2]').send_keys(matricula)\n",
        "\n",
        "    # Selecionar Checkbox\n",
        "    #navegador.find_element('xpath','//*[@id=\"input-ember1502\"]').click()\n",
        "    navegador.find_element('xpath','//*[@id=\"input-ember1366\"]').click()\n",
        "\n",
        "    # Criar Lead\n",
        "    # navegador.find_element('xpath','//*[@id=\"ember1507\"]').click()\n",
        "    time.sleep(10)\n",
        "\n",
        "    # Voltar para Página Inicial\n",
        "    navegador.get(\"site\") # preencher o nome do endereço completo com http://"
      ]
    }
  ],
  "metadata": {
    "kernelspec": {
      "display_name": "Python 3 (ipykernel)",
      "language": "python",
      "name": "python3"
    },
    "language_info": {
      "codemirror_mode": {
        "name": "ipython",
        "version": 3
      },
      "file_extension": ".py",
      "mimetype": "text/x-python",
      "name": "python",
      "nbconvert_exporter": "python",
      "pygments_lexer": "ipython3",
      "version": "3.9.12"
    },
    "colab": {
      "provenance": [],
      "include_colab_link": true
    }
  },
  "nbformat": 4,
  "nbformat_minor": 5
}
