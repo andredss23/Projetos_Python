{
 "cells": [
  {
   "cell_type": "code",
   "execution_count": 1,
   "id": "59ff8bed",
   "metadata": {},
   "outputs": [],
   "source": [
    "import pandas as pd\n",
    "import numpy as np\n",
    "import seaborn as sns\n",
    "import matplotlib.pyplot as plt\n",
    "import statsmodels.formula.api as smf\n",
    "import wooldridge as wdg"
   ]
  },
  {
   "cell_type": "markdown",
   "id": "1ebf6fd7",
   "metadata": {},
   "source": [
    "# Exercício 1"
   ]
  },
  {
   "cell_type": "code",
   "execution_count": 2,
   "id": "36917ed0",
   "metadata": {},
   "outputs": [],
   "source": [
    "df = wdg.data('401K')"
   ]
  },
  {
   "cell_type": "code",
   "execution_count": 3,
   "id": "faf9e2dd",
   "metadata": {},
   "outputs": [
    {
     "name": "stdout",
     "output_type": "stream",
     "text": [
      "<class 'pandas.core.frame.DataFrame'>\n",
      "RangeIndex: 1534 entries, 0 to 1533\n",
      "Data columns (total 8 columns):\n",
      " #   Column   Non-Null Count  Dtype  \n",
      "---  ------   --------------  -----  \n",
      " 0   prate    1534 non-null   float64\n",
      " 1   mrate    1534 non-null   float64\n",
      " 2   totpart  1534 non-null   float64\n",
      " 3   totelg   1534 non-null   float64\n",
      " 4   age      1534 non-null   int64  \n",
      " 5   totemp   1534 non-null   float64\n",
      " 6   sole     1534 non-null   int64  \n",
      " 7   ltotemp  1534 non-null   float64\n",
      "dtypes: float64(6), int64(2)\n",
      "memory usage: 96.0 KB\n"
     ]
    }
   ],
   "source": [
    "df.info()"
   ]
  },
  {
   "cell_type": "code",
   "execution_count": 4,
   "id": "21a8061f",
   "metadata": {},
   "outputs": [
    {
     "data": {
      "text/plain": [
       "87.3629074562948"
      ]
     },
     "execution_count": 4,
     "metadata": {},
     "output_type": "execute_result"
    }
   ],
   "source": [
    "# i) Média de prate\n",
    "df['prate'].mean()"
   ]
  },
  {
   "cell_type": "code",
   "execution_count": 5,
   "id": "1311a3e3",
   "metadata": {
    "scrolled": true
   },
   "outputs": [
    {
     "data": {
      "text/plain": [
       "0.7315123849943027"
      ]
     },
     "execution_count": 5,
     "metadata": {},
     "output_type": "execute_result"
    }
   ],
   "source": [
    "# i) Média de mrate\n",
    "df['mrate'].mean()"
   ]
  },
  {
   "cell_type": "code",
   "execution_count": 6,
   "id": "533194ad",
   "metadata": {
    "scrolled": false
   },
   "outputs": [
    {
     "data": {
      "text/html": [
       "<table class=\"simpletable\">\n",
       "<caption>OLS Regression Results</caption>\n",
       "<tr>\n",
       "  <th>Dep. Variable:</th>          <td>prate</td>      <th>  R-squared:         </th> <td>   0.075</td> \n",
       "</tr>\n",
       "<tr>\n",
       "  <th>Model:</th>                   <td>OLS</td>       <th>  Adj. R-squared:    </th> <td>   0.074</td> \n",
       "</tr>\n",
       "<tr>\n",
       "  <th>Method:</th>             <td>Least Squares</td>  <th>  F-statistic:       </th> <td>   123.7</td> \n",
       "</tr>\n",
       "<tr>\n",
       "  <th>Date:</th>             <td>Tue, 30 Aug 2022</td> <th>  Prob (F-statistic):</th> <td>1.10e-27</td> \n",
       "</tr>\n",
       "<tr>\n",
       "  <th>Time:</th>                 <td>10:53:13</td>     <th>  Log-Likelihood:    </th> <td> -6437.0</td> \n",
       "</tr>\n",
       "<tr>\n",
       "  <th>No. Observations:</th>      <td>  1534</td>      <th>  AIC:               </th> <td>1.288e+04</td>\n",
       "</tr>\n",
       "<tr>\n",
       "  <th>Df Residuals:</th>          <td>  1532</td>      <th>  BIC:               </th> <td>1.289e+04</td>\n",
       "</tr>\n",
       "<tr>\n",
       "  <th>Df Model:</th>              <td>     1</td>      <th>                     </th>     <td> </td>    \n",
       "</tr>\n",
       "<tr>\n",
       "  <th>Covariance Type:</th>      <td>nonrobust</td>    <th>                     </th>     <td> </td>    \n",
       "</tr>\n",
       "</table>\n",
       "<table class=\"simpletable\">\n",
       "<tr>\n",
       "      <td></td>         <th>coef</th>     <th>std err</th>      <th>t</th>      <th>P>|t|</th>  <th>[0.025</th>    <th>0.975]</th>  \n",
       "</tr>\n",
       "<tr>\n",
       "  <th>Intercept</th> <td>   83.0755</td> <td>    0.563</td> <td>  147.484</td> <td> 0.000</td> <td>   81.971</td> <td>   84.180</td>\n",
       "</tr>\n",
       "<tr>\n",
       "  <th>mrate</th>     <td>    5.8611</td> <td>    0.527</td> <td>   11.121</td> <td> 0.000</td> <td>    4.827</td> <td>    6.895</td>\n",
       "</tr>\n",
       "</table>\n",
       "<table class=\"simpletable\">\n",
       "<tr>\n",
       "  <th>Omnibus:</th>       <td>394.767</td> <th>  Durbin-Watson:     </th> <td>   1.908</td> \n",
       "</tr>\n",
       "<tr>\n",
       "  <th>Prob(Omnibus):</th> <td> 0.000</td>  <th>  Jarque-Bera (JB):  </th> <td> 870.172</td> \n",
       "</tr>\n",
       "<tr>\n",
       "  <th>Skew:</th>          <td>-1.444</td>  <th>  Prob(JB):          </th> <td>1.11e-189</td>\n",
       "</tr>\n",
       "<tr>\n",
       "  <th>Kurtosis:</th>      <td> 5.296</td>  <th>  Cond. No.          </th> <td>    2.32</td> \n",
       "</tr>\n",
       "</table><br/><br/>Notes:<br/>[1] Standard Errors assume that the covariance matrix of the errors is correctly specified."
      ],
      "text/plain": [
       "<class 'statsmodels.iolib.summary.Summary'>\n",
       "\"\"\"\n",
       "                            OLS Regression Results                            \n",
       "==============================================================================\n",
       "Dep. Variable:                  prate   R-squared:                       0.075\n",
       "Model:                            OLS   Adj. R-squared:                  0.074\n",
       "Method:                 Least Squares   F-statistic:                     123.7\n",
       "Date:                Tue, 30 Aug 2022   Prob (F-statistic):           1.10e-27\n",
       "Time:                        10:53:13   Log-Likelihood:                -6437.0\n",
       "No. Observations:                1534   AIC:                         1.288e+04\n",
       "Df Residuals:                    1532   BIC:                         1.289e+04\n",
       "Df Model:                           1                                         \n",
       "Covariance Type:            nonrobust                                         \n",
       "==============================================================================\n",
       "                 coef    std err          t      P>|t|      [0.025      0.975]\n",
       "------------------------------------------------------------------------------\n",
       "Intercept     83.0755      0.563    147.484      0.000      81.971      84.180\n",
       "mrate          5.8611      0.527     11.121      0.000       4.827       6.895\n",
       "==============================================================================\n",
       "Omnibus:                      394.767   Durbin-Watson:                   1.908\n",
       "Prob(Omnibus):                  0.000   Jarque-Bera (JB):              870.172\n",
       "Skew:                          -1.444   Prob(JB):                    1.11e-189\n",
       "Kurtosis:                       5.296   Cond. No.                         2.32\n",
       "==============================================================================\n",
       "\n",
       "Notes:\n",
       "[1] Standard Errors assume that the covariance matrix of the errors is correctly specified.\n",
       "\"\"\""
      ]
     },
     "execution_count": 6,
     "metadata": {},
     "output_type": "execute_result"
    }
   ],
   "source": [
    "# ii) Regressão\n",
    "regression = smf.ols('prate ~ mrate', data = df)\n",
    "regression.fit().summary()"
   ]
  },
  {
   "cell_type": "raw",
   "id": "55c3b389",
   "metadata": {},
   "source": [
    "O R² é de 0.074 e o tamanho da amostra é de 1534."
   ]
  },
  {
   "cell_type": "raw",
   "id": "c88fe3df",
   "metadata": {},
   "source": [
    "iii) O intercepto é de 83.07 e o coeficiente de mrate é de 5.86\n",
    "\n",
    "Na regressão é explicado quanto a taxa de generosidade explica os trabalhadores aptos. \n",
    "O intercepto expressa que se ninguem contribuir a taxa de trabalhadores aptos é de 83,07.\n",
    "O coeficiente expressa que a cada 1 aumento da taxa de generosidade implica em um aumento de 5,8611 nos clientes ativos."
   ]
  },
  {
   "cell_type": "code",
   "execution_count": 7,
   "id": "ba4b2a51",
   "metadata": {},
   "outputs": [
    {
     "name": "stdout",
     "output_type": "stream",
     "text": [
      "103.58935000000001\n"
     ]
    }
   ],
   "source": [
    "# iv) Resultado da regressão quando mrate é 3,5? \n",
    "prate = 83.0755 + 5.8611*3.5\n",
    "print(prate)"
   ]
  },
  {
   "cell_type": "raw",
   "id": "07063715",
   "metadata": {},
   "source": [
    "O resultado é 103.58, a previsão não é razoável pois passa dos 100%."
   ]
  },
  {
   "cell_type": "raw",
   "id": "e3e9cdbe",
   "metadata": {},
   "source": [
    "v) Quanto prate é explicado por mrate? \n",
    "\n",
    "É explicado somente 7,4%, considerado baixo o valor, seria necessário mais variáveis para explicar. "
   ]
  },
  {
   "cell_type": "markdown",
   "id": "4ff41ed0",
   "metadata": {},
   "source": [
    "# Exercício 3"
   ]
  },
  {
   "cell_type": "code",
   "execution_count": 8,
   "id": "e68dd9e8",
   "metadata": {},
   "outputs": [],
   "source": [
    "df1 = wdg.data('SLEEP75')"
   ]
  },
  {
   "cell_type": "code",
   "execution_count": 9,
   "id": "40673fc2",
   "metadata": {},
   "outputs": [
    {
     "name": "stdout",
     "output_type": "stream",
     "text": [
      "<class 'pandas.core.frame.DataFrame'>\n",
      "RangeIndex: 706 entries, 0 to 705\n",
      "Data columns (total 34 columns):\n",
      " #   Column    Non-Null Count  Dtype  \n",
      "---  ------    --------------  -----  \n",
      " 0   age       706 non-null    int64  \n",
      " 1   black     706 non-null    int64  \n",
      " 2   case      706 non-null    int64  \n",
      " 3   clerical  706 non-null    float64\n",
      " 4   construc  706 non-null    float64\n",
      " 5   educ      706 non-null    int64  \n",
      " 6   earns74   706 non-null    float64\n",
      " 7   gdhlth    706 non-null    int64  \n",
      " 8   inlf      706 non-null    int64  \n",
      " 9   leis1     706 non-null    int64  \n",
      " 10  leis2     706 non-null    int64  \n",
      " 11  leis3     706 non-null    int64  \n",
      " 12  smsa      706 non-null    int64  \n",
      " 13  lhrwage   532 non-null    float64\n",
      " 14  lothinc   706 non-null    float64\n",
      " 15  male      706 non-null    int64  \n",
      " 16  marr      706 non-null    int64  \n",
      " 17  prot      706 non-null    int64  \n",
      " 18  rlxall    706 non-null    int64  \n",
      " 19  selfe     706 non-null    int64  \n",
      " 20  sleep     706 non-null    int64  \n",
      " 21  slpnaps   706 non-null    int64  \n",
      " 22  south     706 non-null    int64  \n",
      " 23  spsepay   706 non-null    float64\n",
      " 24  spwrk75   706 non-null    int64  \n",
      " 25  totwrk    706 non-null    int64  \n",
      " 26  union     706 non-null    int64  \n",
      " 27  worknrm   706 non-null    int64  \n",
      " 28  workscnd  706 non-null    int64  \n",
      " 29  exper     706 non-null    int64  \n",
      " 30  yngkid    706 non-null    int64  \n",
      " 31  yrsmarr   706 non-null    int64  \n",
      " 32  hrwage    532 non-null    float64\n",
      " 33  agesq     706 non-null    int64  \n",
      "dtypes: float64(7), int64(27)\n",
      "memory usage: 187.7 KB\n"
     ]
    }
   ],
   "source": [
    "df1.info()"
   ]
  },
  {
   "cell_type": "code",
   "execution_count": 10,
   "id": "99858fef",
   "metadata": {},
   "outputs": [
    {
     "data": {
      "text/html": [
       "<table class=\"simpletable\">\n",
       "<caption>OLS Regression Results</caption>\n",
       "<tr>\n",
       "  <th>Dep. Variable:</th>          <td>sleep</td>      <th>  R-squared:         </th> <td>   0.103</td> \n",
       "</tr>\n",
       "<tr>\n",
       "  <th>Model:</th>                   <td>OLS</td>       <th>  Adj. R-squared:    </th> <td>   0.102</td> \n",
       "</tr>\n",
       "<tr>\n",
       "  <th>Method:</th>             <td>Least Squares</td>  <th>  F-statistic:       </th> <td>   81.09</td> \n",
       "</tr>\n",
       "<tr>\n",
       "  <th>Date:</th>             <td>Tue, 30 Aug 2022</td> <th>  Prob (F-statistic):</th> <td>1.99e-18</td> \n",
       "</tr>\n",
       "<tr>\n",
       "  <th>Time:</th>                 <td>10:53:13</td>     <th>  Log-Likelihood:    </th> <td> -5267.1</td> \n",
       "</tr>\n",
       "<tr>\n",
       "  <th>No. Observations:</th>      <td>   706</td>      <th>  AIC:               </th> <td>1.054e+04</td>\n",
       "</tr>\n",
       "<tr>\n",
       "  <th>Df Residuals:</th>          <td>   704</td>      <th>  BIC:               </th> <td>1.055e+04</td>\n",
       "</tr>\n",
       "<tr>\n",
       "  <th>Df Model:</th>              <td>     1</td>      <th>                     </th>     <td> </td>    \n",
       "</tr>\n",
       "<tr>\n",
       "  <th>Covariance Type:</th>      <td>nonrobust</td>    <th>                     </th>     <td> </td>    \n",
       "</tr>\n",
       "</table>\n",
       "<table class=\"simpletable\">\n",
       "<tr>\n",
       "      <td></td>         <th>coef</th>     <th>std err</th>      <th>t</th>      <th>P>|t|</th>  <th>[0.025</th>    <th>0.975]</th>  \n",
       "</tr>\n",
       "<tr>\n",
       "  <th>Intercept</th> <td> 3586.3770</td> <td>   38.912</td> <td>   92.165</td> <td> 0.000</td> <td> 3509.979</td> <td> 3662.775</td>\n",
       "</tr>\n",
       "<tr>\n",
       "  <th>totwrk</th>    <td>   -0.1507</td> <td>    0.017</td> <td>   -9.005</td> <td> 0.000</td> <td>   -0.184</td> <td>   -0.118</td>\n",
       "</tr>\n",
       "</table>\n",
       "<table class=\"simpletable\">\n",
       "<tr>\n",
       "  <th>Omnibus:</th>       <td>68.651</td> <th>  Durbin-Watson:     </th> <td>   1.955</td>\n",
       "</tr>\n",
       "<tr>\n",
       "  <th>Prob(Omnibus):</th> <td> 0.000</td> <th>  Jarque-Bera (JB):  </th> <td> 192.044</td>\n",
       "</tr>\n",
       "<tr>\n",
       "  <th>Skew:</th>          <td>-0.483</td> <th>  Prob(JB):          </th> <td>1.99e-42</td>\n",
       "</tr>\n",
       "<tr>\n",
       "  <th>Kurtosis:</th>      <td> 5.365</td> <th>  Cond. No.          </th> <td>5.71e+03</td>\n",
       "</tr>\n",
       "</table><br/><br/>Notes:<br/>[1] Standard Errors assume that the covariance matrix of the errors is correctly specified.<br/>[2] The condition number is large, 5.71e+03. This might indicate that there are<br/>strong multicollinearity or other numerical problems."
      ],
      "text/plain": [
       "<class 'statsmodels.iolib.summary.Summary'>\n",
       "\"\"\"\n",
       "                            OLS Regression Results                            \n",
       "==============================================================================\n",
       "Dep. Variable:                  sleep   R-squared:                       0.103\n",
       "Model:                            OLS   Adj. R-squared:                  0.102\n",
       "Method:                 Least Squares   F-statistic:                     81.09\n",
       "Date:                Tue, 30 Aug 2022   Prob (F-statistic):           1.99e-18\n",
       "Time:                        10:53:13   Log-Likelihood:                -5267.1\n",
       "No. Observations:                 706   AIC:                         1.054e+04\n",
       "Df Residuals:                     704   BIC:                         1.055e+04\n",
       "Df Model:                           1                                         \n",
       "Covariance Type:            nonrobust                                         \n",
       "==============================================================================\n",
       "                 coef    std err          t      P>|t|      [0.025      0.975]\n",
       "------------------------------------------------------------------------------\n",
       "Intercept   3586.3770     38.912     92.165      0.000    3509.979    3662.775\n",
       "totwrk        -0.1507      0.017     -9.005      0.000      -0.184      -0.118\n",
       "==============================================================================\n",
       "Omnibus:                       68.651   Durbin-Watson:                   1.955\n",
       "Prob(Omnibus):                  0.000   Jarque-Bera (JB):              192.044\n",
       "Skew:                          -0.483   Prob(JB):                     1.99e-42\n",
       "Kurtosis:                       5.365   Cond. No.                     5.71e+03\n",
       "==============================================================================\n",
       "\n",
       "Notes:\n",
       "[1] Standard Errors assume that the covariance matrix of the errors is correctly specified.\n",
       "[2] The condition number is large, 5.71e+03. This might indicate that there are\n",
       "strong multicollinearity or other numerical problems.\n",
       "\"\"\""
      ]
     },
     "execution_count": 10,
     "metadata": {},
     "output_type": "execute_result"
    }
   ],
   "source": [
    "# i) Regressão\n",
    "regression = smf.ols('sleep ~ totwrk', data = df1)\n",
    "regression.fit().summary()"
   ]
  },
  {
   "cell_type": "raw",
   "id": "4b1e12d2",
   "metadata": {},
   "source": [
    "O R² é de 0.103 e o tamanho da amostra é de 706.\n",
    "\n",
    "O intercepto é 3586.37, ele siginifica que dado zero minutos trabalhados na semana a quantidade dorminida é de 3586.37 minutos por semnana."
   ]
  },
  {
   "cell_type": "code",
   "execution_count": 11,
   "id": "b91d61c8",
   "metadata": {},
   "outputs": [
    {
     "name": "stdout",
     "output_type": "stream",
     "text": [
      "3568.293\n"
     ]
    }
   ],
   "source": [
    "# ii) Resultado da regressão quando totwrk é 2 horas? \n",
    "sleep = 3586.3770 - 0.1507*120\n",
    "print(sleep)"
   ]
  },
  {
   "cell_type": "raw",
   "id": "147c4877",
   "metadata": {},
   "source": [
    "O efeito não será grande, pois os minutos dormidos serão de apenas 18,08 minutos a menos do que não trabalhar nenhuma hora na semana."
   ]
  },
  {
   "cell_type": "markdown",
   "id": "75f46996",
   "metadata": {},
   "source": [
    "# Exercício 5"
   ]
  },
  {
   "cell_type": "code",
   "execution_count": 12,
   "id": "009728de",
   "metadata": {},
   "outputs": [],
   "source": [
    "df2 = wdg.data('RDCHEM')"
   ]
  },
  {
   "cell_type": "code",
   "execution_count": 13,
   "id": "87995b0a",
   "metadata": {},
   "outputs": [
    {
     "name": "stdout",
     "output_type": "stream",
     "text": [
      "<class 'pandas.core.frame.DataFrame'>\n",
      "RangeIndex: 32 entries, 0 to 31\n",
      "Data columns (total 8 columns):\n",
      " #   Column    Non-Null Count  Dtype  \n",
      "---  ------    --------------  -----  \n",
      " 0   rd        32 non-null     float64\n",
      " 1   sales     32 non-null     float64\n",
      " 2   profits   32 non-null     float64\n",
      " 3   rdintens  32 non-null     float64\n",
      " 4   profmarg  32 non-null     float64\n",
      " 5   salessq   32 non-null     float64\n",
      " 6   lsales    32 non-null     float64\n",
      " 7   lrd       32 non-null     float64\n",
      "dtypes: float64(8)\n",
      "memory usage: 2.1 KB\n"
     ]
    }
   ],
   "source": [
    "df2.info()"
   ]
  },
  {
   "cell_type": "raw",
   "id": "f277f0a5",
   "metadata": {},
   "source": [
    "i) log(rd) = β0 + β1log(sales) + u"
   ]
  },
  {
   "cell_type": "code",
   "execution_count": 14,
   "id": "4bf7d9d4",
   "metadata": {},
   "outputs": [
    {
     "data": {
      "text/html": [
       "<table class=\"simpletable\">\n",
       "<caption>OLS Regression Results</caption>\n",
       "<tr>\n",
       "  <th>Dep. Variable:</th>           <td>lrd</td>       <th>  R-squared:         </th> <td>   0.910</td>\n",
       "</tr>\n",
       "<tr>\n",
       "  <th>Model:</th>                   <td>OLS</td>       <th>  Adj. R-squared:    </th> <td>   0.907</td>\n",
       "</tr>\n",
       "<tr>\n",
       "  <th>Method:</th>             <td>Least Squares</td>  <th>  F-statistic:       </th> <td>   302.7</td>\n",
       "</tr>\n",
       "<tr>\n",
       "  <th>Date:</th>             <td>Tue, 30 Aug 2022</td> <th>  Prob (F-statistic):</th> <td>3.20e-17</td>\n",
       "</tr>\n",
       "<tr>\n",
       "  <th>Time:</th>                 <td>10:53:13</td>     <th>  Log-Likelihood:    </th> <td> -24.021</td>\n",
       "</tr>\n",
       "<tr>\n",
       "  <th>No. Observations:</th>      <td>    32</td>      <th>  AIC:               </th> <td>   52.04</td>\n",
       "</tr>\n",
       "<tr>\n",
       "  <th>Df Residuals:</th>          <td>    30</td>      <th>  BIC:               </th> <td>   54.97</td>\n",
       "</tr>\n",
       "<tr>\n",
       "  <th>Df Model:</th>              <td>     1</td>      <th>                     </th>     <td> </td>   \n",
       "</tr>\n",
       "<tr>\n",
       "  <th>Covariance Type:</th>      <td>nonrobust</td>    <th>                     </th>     <td> </td>   \n",
       "</tr>\n",
       "</table>\n",
       "<table class=\"simpletable\">\n",
       "<tr>\n",
       "      <td></td>         <th>coef</th>     <th>std err</th>      <th>t</th>      <th>P>|t|</th>  <th>[0.025</th>    <th>0.975]</th>  \n",
       "</tr>\n",
       "<tr>\n",
       "  <th>Intercept</th> <td>   -4.1047</td> <td>    0.453</td> <td>   -9.066</td> <td> 0.000</td> <td>   -5.029</td> <td>   -3.180</td>\n",
       "</tr>\n",
       "<tr>\n",
       "  <th>lsales</th>    <td>    1.0757</td> <td>    0.062</td> <td>   17.399</td> <td> 0.000</td> <td>    0.949</td> <td>    1.202</td>\n",
       "</tr>\n",
       "</table>\n",
       "<table class=\"simpletable\">\n",
       "<tr>\n",
       "  <th>Omnibus:</th>       <td> 1.407</td> <th>  Durbin-Watson:     </th> <td>   1.847</td>\n",
       "</tr>\n",
       "<tr>\n",
       "  <th>Prob(Omnibus):</th> <td> 0.495</td> <th>  Jarque-Bera (JB):  </th> <td>   1.025</td>\n",
       "</tr>\n",
       "<tr>\n",
       "  <th>Skew:</th>          <td> 0.139</td> <th>  Prob(JB):          </th> <td>   0.599</td>\n",
       "</tr>\n",
       "<tr>\n",
       "  <th>Kurtosis:</th>      <td> 2.168</td> <th>  Cond. No.          </th> <td>    36.1</td>\n",
       "</tr>\n",
       "</table><br/><br/>Notes:<br/>[1] Standard Errors assume that the covariance matrix of the errors is correctly specified."
      ],
      "text/plain": [
       "<class 'statsmodels.iolib.summary.Summary'>\n",
       "\"\"\"\n",
       "                            OLS Regression Results                            \n",
       "==============================================================================\n",
       "Dep. Variable:                    lrd   R-squared:                       0.910\n",
       "Model:                            OLS   Adj. R-squared:                  0.907\n",
       "Method:                 Least Squares   F-statistic:                     302.7\n",
       "Date:                Tue, 30 Aug 2022   Prob (F-statistic):           3.20e-17\n",
       "Time:                        10:53:13   Log-Likelihood:                -24.021\n",
       "No. Observations:                  32   AIC:                             52.04\n",
       "Df Residuals:                      30   BIC:                             54.97\n",
       "Df Model:                           1                                         \n",
       "Covariance Type:            nonrobust                                         \n",
       "==============================================================================\n",
       "                 coef    std err          t      P>|t|      [0.025      0.975]\n",
       "------------------------------------------------------------------------------\n",
       "Intercept     -4.1047      0.453     -9.066      0.000      -5.029      -3.180\n",
       "lsales         1.0757      0.062     17.399      0.000       0.949       1.202\n",
       "==============================================================================\n",
       "Omnibus:                        1.407   Durbin-Watson:                   1.847\n",
       "Prob(Omnibus):                  0.495   Jarque-Bera (JB):                1.025\n",
       "Skew:                           0.139   Prob(JB):                        0.599\n",
       "Kurtosis:                       2.168   Cond. No.                         36.1\n",
       "==============================================================================\n",
       "\n",
       "Notes:\n",
       "[1] Standard Errors assume that the covariance matrix of the errors is correctly specified.\n",
       "\"\"\""
      ]
     },
     "execution_count": 14,
     "metadata": {},
     "output_type": "execute_result"
    }
   ],
   "source": [
    "regression = smf.ols('lrd ~ lsales', data = df2)\n",
    "regression.fit().summary()"
   ]
  },
  {
   "cell_type": "raw",
   "id": "7e985533",
   "metadata": {},
   "source": [
    "ii) A elasticidade estimada de rd em sales é de 1.0757, isso siginifica que o aumento de 1% nas vendas implica em um aumento de 1,0757% nos gastos em P&D."
   ]
  },
  {
   "cell_type": "markdown",
   "id": "cb42bf9c",
   "metadata": {},
   "source": [
    "# Exercício 7"
   ]
  },
  {
   "cell_type": "code",
   "execution_count": 15,
   "id": "c3420229",
   "metadata": {},
   "outputs": [],
   "source": [
    "df3 = wdg.data('CHARITY')"
   ]
  },
  {
   "cell_type": "code",
   "execution_count": 16,
   "id": "8d5a76bb",
   "metadata": {},
   "outputs": [
    {
     "name": "stdout",
     "output_type": "stream",
     "text": [
      "<class 'pandas.core.frame.DataFrame'>\n",
      "RangeIndex: 4268 entries, 0 to 4267\n",
      "Data columns (total 8 columns):\n",
      " #   Column     Non-Null Count  Dtype  \n",
      "---  ------     --------------  -----  \n",
      " 0   respond    4268 non-null   int64  \n",
      " 1   gift       4268 non-null   int64  \n",
      " 2   resplast   4268 non-null   int64  \n",
      " 3   weekslast  4268 non-null   float64\n",
      " 4   propresp   4268 non-null   float64\n",
      " 5   mailsyear  4268 non-null   float64\n",
      " 6   giftlast   4268 non-null   int64  \n",
      " 7   avggift    4268 non-null   float64\n",
      "dtypes: float64(4), int64(4)\n",
      "memory usage: 266.9 KB\n"
     ]
    }
   ],
   "source": [
    "df3.info()"
   ]
  },
  {
   "cell_type": "raw",
   "id": "b67af06d",
   "metadata": {},
   "source": [
    "i) Média de presentes e quantidade de pessoas sem presentes"
   ]
  },
  {
   "cell_type": "code",
   "execution_count": 17,
   "id": "c8c2bbc9",
   "metadata": {},
   "outputs": [
    {
     "data": {
      "text/plain": [
       "7.444470477975632"
      ]
     },
     "execution_count": 17,
     "metadata": {},
     "output_type": "execute_result"
    }
   ],
   "source": [
    "df3['gift'].mean()"
   ]
  },
  {
   "cell_type": "code",
   "execution_count": 18,
   "id": "02f95097",
   "metadata": {},
   "outputs": [
    {
     "data": {
      "text/plain": [
       "gift\n",
       "0      2561\n",
       "2        25\n",
       "3         6\n",
       "4         1\n",
       "5       158\n",
       "7        14\n",
       "8         1\n",
       "10      702\n",
       "12        1\n",
       "15      152\n",
       "20       86\n",
       "22        2\n",
       "24        1\n",
       "25      387\n",
       "30       36\n",
       "35        7\n",
       "40        4\n",
       "50       86\n",
       "55        1\n",
       "60        1\n",
       "75        3\n",
       "90        1\n",
       "95        1\n",
       "100      25\n",
       "120       1\n",
       "150       1\n",
       "200       1\n",
       "250       3\n",
       "dtype: int64"
      ]
     },
     "execution_count": 18,
     "metadata": {},
     "output_type": "execute_result"
    }
   ],
   "source": [
    "df3.groupby(by ='gift').size()"
   ]
  },
  {
   "cell_type": "code",
   "execution_count": 19,
   "id": "772081ae",
   "metadata": {},
   "outputs": [
    {
     "name": "stdout",
     "output_type": "stream",
     "text": [
      "60.00468603561387\n"
     ]
    }
   ],
   "source": [
    "sem_presentes = (2561/4268)*100\n",
    "print(sem_presentes)"
   ]
  },
  {
   "cell_type": "raw",
   "id": "cffe4f71",
   "metadata": {},
   "source": [
    "ii) Média, máximo e mínimo de envios por ano"
   ]
  },
  {
   "cell_type": "code",
   "execution_count": 20,
   "id": "17cad056",
   "metadata": {},
   "outputs": [
    {
     "data": {
      "text/plain": [
       "2.0495548266166823"
      ]
     },
     "execution_count": 20,
     "metadata": {},
     "output_type": "execute_result"
    }
   ],
   "source": [
    "df3['mailsyear'].mean()"
   ]
  },
  {
   "cell_type": "code",
   "execution_count": 21,
   "id": "8be37435",
   "metadata": {},
   "outputs": [
    {
     "data": {
      "text/plain": [
       "3.5"
      ]
     },
     "execution_count": 21,
     "metadata": {},
     "output_type": "execute_result"
    }
   ],
   "source": [
    "df3['mailsyear'].max()"
   ]
  },
  {
   "cell_type": "code",
   "execution_count": 22,
   "id": "0683640d",
   "metadata": {},
   "outputs": [
    {
     "data": {
      "text/plain": [
       "0.25"
      ]
     },
     "execution_count": 22,
     "metadata": {},
     "output_type": "execute_result"
    }
   ],
   "source": [
    "df3['mailsyear'].min()"
   ]
  },
  {
   "cell_type": "raw",
   "id": "2308277c",
   "metadata": {},
   "source": [
    "iii) Regressão de gift sobre mailsyear"
   ]
  },
  {
   "cell_type": "code",
   "execution_count": 23,
   "id": "9c6cb684",
   "metadata": {},
   "outputs": [
    {
     "data": {
      "text/html": [
       "<table class=\"simpletable\">\n",
       "<caption>OLS Regression Results</caption>\n",
       "<tr>\n",
       "  <th>Dep. Variable:</th>          <td>gift</td>       <th>  R-squared:         </th> <td>   0.014</td> \n",
       "</tr>\n",
       "<tr>\n",
       "  <th>Model:</th>                   <td>OLS</td>       <th>  Adj. R-squared:    </th> <td>   0.014</td> \n",
       "</tr>\n",
       "<tr>\n",
       "  <th>Method:</th>             <td>Least Squares</td>  <th>  F-statistic:       </th> <td>   59.65</td> \n",
       "</tr>\n",
       "<tr>\n",
       "  <th>Date:</th>             <td>Tue, 30 Aug 2022</td> <th>  Prob (F-statistic):</th> <td>1.40e-14</td> \n",
       "</tr>\n",
       "<tr>\n",
       "  <th>Time:</th>                 <td>10:53:14</td>     <th>  Log-Likelihood:    </th> <td> -17602.</td> \n",
       "</tr>\n",
       "<tr>\n",
       "  <th>No. Observations:</th>      <td>  4268</td>      <th>  AIC:               </th> <td>3.521e+04</td>\n",
       "</tr>\n",
       "<tr>\n",
       "  <th>Df Residuals:</th>          <td>  4266</td>      <th>  BIC:               </th> <td>3.522e+04</td>\n",
       "</tr>\n",
       "<tr>\n",
       "  <th>Df Model:</th>              <td>     1</td>      <th>                     </th>     <td> </td>    \n",
       "</tr>\n",
       "<tr>\n",
       "  <th>Covariance Type:</th>      <td>nonrobust</td>    <th>                     </th>     <td> </td>    \n",
       "</tr>\n",
       "</table>\n",
       "<table class=\"simpletable\">\n",
       "<tr>\n",
       "      <td></td>         <th>coef</th>     <th>std err</th>      <th>t</th>      <th>P>|t|</th>  <th>[0.025</th>    <th>0.975]</th>  \n",
       "</tr>\n",
       "<tr>\n",
       "  <th>Intercept</th> <td>    2.0141</td> <td>    0.739</td> <td>    2.724</td> <td> 0.006</td> <td>    0.564</td> <td>    3.464</td>\n",
       "</tr>\n",
       "<tr>\n",
       "  <th>mailsyear</th> <td>    2.6495</td> <td>    0.343</td> <td>    7.723</td> <td> 0.000</td> <td>    1.977</td> <td>    3.322</td>\n",
       "</tr>\n",
       "</table>\n",
       "<table class=\"simpletable\">\n",
       "<tr>\n",
       "  <th>Omnibus:</th>       <td>4951.411</td> <th>  Durbin-Watson:     </th>  <td>   1.529</td> \n",
       "</tr>\n",
       "<tr>\n",
       "  <th>Prob(Omnibus):</th>  <td> 0.000</td>  <th>  Jarque-Bera (JB):  </th> <td>784986.187</td>\n",
       "</tr>\n",
       "<tr>\n",
       "  <th>Skew:</th>           <td> 5.889</td>  <th>  Prob(JB):          </th>  <td>    0.00</td> \n",
       "</tr>\n",
       "<tr>\n",
       "  <th>Kurtosis:</th>       <td>68.387</td>  <th>  Cond. No.          </th>  <td>    8.34</td> \n",
       "</tr>\n",
       "</table><br/><br/>Notes:<br/>[1] Standard Errors assume that the covariance matrix of the errors is correctly specified."
      ],
      "text/plain": [
       "<class 'statsmodels.iolib.summary.Summary'>\n",
       "\"\"\"\n",
       "                            OLS Regression Results                            \n",
       "==============================================================================\n",
       "Dep. Variable:                   gift   R-squared:                       0.014\n",
       "Model:                            OLS   Adj. R-squared:                  0.014\n",
       "Method:                 Least Squares   F-statistic:                     59.65\n",
       "Date:                Tue, 30 Aug 2022   Prob (F-statistic):           1.40e-14\n",
       "Time:                        10:53:14   Log-Likelihood:                -17602.\n",
       "No. Observations:                4268   AIC:                         3.521e+04\n",
       "Df Residuals:                    4266   BIC:                         3.522e+04\n",
       "Df Model:                           1                                         \n",
       "Covariance Type:            nonrobust                                         \n",
       "==============================================================================\n",
       "                 coef    std err          t      P>|t|      [0.025      0.975]\n",
       "------------------------------------------------------------------------------\n",
       "Intercept      2.0141      0.739      2.724      0.006       0.564       3.464\n",
       "mailsyear      2.6495      0.343      7.723      0.000       1.977       3.322\n",
       "==============================================================================\n",
       "Omnibus:                     4951.411   Durbin-Watson:                   1.529\n",
       "Prob(Omnibus):                  0.000   Jarque-Bera (JB):           784986.187\n",
       "Skew:                           5.889   Prob(JB):                         0.00\n",
       "Kurtosis:                      68.387   Cond. No.                         8.34\n",
       "==============================================================================\n",
       "\n",
       "Notes:\n",
       "[1] Standard Errors assume that the covariance matrix of the errors is correctly specified.\n",
       "\"\"\""
      ]
     },
     "execution_count": 23,
     "metadata": {},
     "output_type": "execute_result"
    }
   ],
   "source": [
    "regression = smf.ols('gift ~ mailsyear', data = df3)\n",
    "regression.fit().summary()"
   ]
  },
  {
   "cell_type": "raw",
   "id": "5937d2d0",
   "metadata": {},
   "source": [
    "O R² é de 0.014 e o tamanho da amostra é de 4268"
   ]
  },
  {
   "cell_type": "raw",
   "id": "c140b1b9",
   "metadata": {},
   "source": [
    "iv) o coeficiente de inclinação é 2.6495, ele significa que a quantidade presentes aumenta em 2.6495 envio por ano"
   ]
  },
  {
   "cell_type": "code",
   "execution_count": 24,
   "id": "bbf1e379",
   "metadata": {},
   "outputs": [
    {
     "name": "stdout",
     "output_type": "stream",
     "text": [
      "2.676475\n"
     ]
    }
   ],
   "source": [
    "# v) Resultado da regressão com o menor valor de 0.25? \n",
    "gift = 2.0141 + 2.6495*0.25\n",
    "print(gift)"
   ]
  },
  {
   "cell_type": "code",
   "execution_count": 26,
   "id": "83ffbd15",
   "metadata": {},
   "outputs": [
    {
     "name": "stderr",
     "output_type": "stream",
     "text": [
      "C:\\Users\\andre\\anaconda3\\lib\\site-packages\\pandas\\core\\arraylike.py:358: RuntimeWarning: divide by zero encountered in log\n",
      "  result = getattr(ufunc, method)(*inputs, **kwargs)\n",
      "C:\\Users\\andre\\anaconda3\\lib\\site-packages\\statsmodels\\regression\\linear_model.py:1666: RuntimeWarning: invalid value encountered in subtract\n",
      "  return np.sum(weights * (model.endog - mean)**2)\n"
     ]
    },
    {
     "data": {
      "text/html": [
       "<table class=\"simpletable\">\n",
       "<caption>OLS Regression Results</caption>\n",
       "<tr>\n",
       "  <th>Dep. Variable:</th>      <td>np.log(gift)</td>   <th>  R-squared:         </th> <td>     nan</td>\n",
       "</tr>\n",
       "<tr>\n",
       "  <th>Model:</th>                   <td>OLS</td>       <th>  Adj. R-squared:    </th> <td>     nan</td>\n",
       "</tr>\n",
       "<tr>\n",
       "  <th>Method:</th>             <td>Least Squares</td>  <th>  F-statistic:       </th> <td>     nan</td>\n",
       "</tr>\n",
       "<tr>\n",
       "  <th>Date:</th>             <td>Tue, 30 Aug 2022</td> <th>  Prob (F-statistic):</th>  <td>   nan</td> \n",
       "</tr>\n",
       "<tr>\n",
       "  <th>Time:</th>                 <td>10:55:27</td>     <th>  Log-Likelihood:    </th> <td>     nan</td>\n",
       "</tr>\n",
       "<tr>\n",
       "  <th>No. Observations:</th>      <td>  4268</td>      <th>  AIC:               </th> <td>     nan</td>\n",
       "</tr>\n",
       "<tr>\n",
       "  <th>Df Residuals:</th>          <td>  4266</td>      <th>  BIC:               </th> <td>     nan</td>\n",
       "</tr>\n",
       "<tr>\n",
       "  <th>Df Model:</th>              <td>     1</td>      <th>                     </th>     <td> </td>   \n",
       "</tr>\n",
       "<tr>\n",
       "  <th>Covariance Type:</th>      <td>nonrobust</td>    <th>                     </th>     <td> </td>   \n",
       "</tr>\n",
       "</table>\n",
       "<table class=\"simpletable\">\n",
       "<tr>\n",
       "      <td></td>         <th>coef</th>     <th>std err</th>      <th>t</th>      <th>P>|t|</th>  <th>[0.025</th>    <th>0.975]</th>  \n",
       "</tr>\n",
       "<tr>\n",
       "  <th>Intercept</th> <td>       nan</td> <td>      nan</td> <td>      nan</td> <td>   nan</td> <td>      nan</td> <td>      nan</td>\n",
       "</tr>\n",
       "<tr>\n",
       "  <th>mailsyear</th> <td>       nan</td> <td>      nan</td> <td>      nan</td> <td>   nan</td> <td>      nan</td> <td>      nan</td>\n",
       "</tr>\n",
       "</table>\n",
       "<table class=\"simpletable\">\n",
       "<tr>\n",
       "  <th>Omnibus:</th>       <td>   nan</td> <th>  Durbin-Watson:     </th> <td>     nan</td>\n",
       "</tr>\n",
       "<tr>\n",
       "  <th>Prob(Omnibus):</th> <td>   nan</td> <th>  Jarque-Bera (JB):  </th> <td>     nan</td>\n",
       "</tr>\n",
       "<tr>\n",
       "  <th>Skew:</th>          <td>   nan</td> <th>  Prob(JB):          </th> <td>     nan</td>\n",
       "</tr>\n",
       "<tr>\n",
       "  <th>Kurtosis:</th>      <td>   nan</td> <th>  Cond. No.          </th> <td>    8.34</td>\n",
       "</tr>\n",
       "</table><br/><br/>Notes:<br/>[1] Standard Errors assume that the covariance matrix of the errors is correctly specified."
      ],
      "text/plain": [
       "<class 'statsmodels.iolib.summary.Summary'>\n",
       "\"\"\"\n",
       "                            OLS Regression Results                            \n",
       "==============================================================================\n",
       "Dep. Variable:           np.log(gift)   R-squared:                         nan\n",
       "Model:                            OLS   Adj. R-squared:                    nan\n",
       "Method:                 Least Squares   F-statistic:                       nan\n",
       "Date:                Tue, 30 Aug 2022   Prob (F-statistic):                nan\n",
       "Time:                        10:55:27   Log-Likelihood:                    nan\n",
       "No. Observations:                4268   AIC:                               nan\n",
       "Df Residuals:                    4266   BIC:                               nan\n",
       "Df Model:                           1                                         \n",
       "Covariance Type:            nonrobust                                         \n",
       "==============================================================================\n",
       "                 coef    std err          t      P>|t|      [0.025      0.975]\n",
       "------------------------------------------------------------------------------\n",
       "Intercept         nan        nan        nan        nan         nan         nan\n",
       "mailsyear         nan        nan        nan        nan         nan         nan\n",
       "==============================================================================\n",
       "Omnibus:                          nan   Durbin-Watson:                     nan\n",
       "Prob(Omnibus):                    nan   Jarque-Bera (JB):                  nan\n",
       "Skew:                             nan   Prob(JB):                          nan\n",
       "Kurtosis:                         nan   Cond. No.                         8.34\n",
       "==============================================================================\n",
       "\n",
       "Notes:\n",
       "[1] Standard Errors assume that the covariance matrix of the errors is correctly specified.\n",
       "\"\"\""
      ]
     },
     "execution_count": 26,
     "metadata": {},
     "output_type": "execute_result"
    }
   ],
   "source": [
    "regression = smf.ols('np.log(gift) ~ mailsyear', data = df3)\n",
    "regression.fit().summary()"
   ]
  }
 ],
 "metadata": {
  "kernelspec": {
   "display_name": "Python 3",
   "language": "python",
   "name": "python3"
  },
  "language_info": {
   "codemirror_mode": {
    "name": "ipython",
    "version": 3
   },
   "file_extension": ".py",
   "mimetype": "text/x-python",
   "name": "python",
   "nbconvert_exporter": "python",
   "pygments_lexer": "ipython3",
   "version": "3.8.8"
  }
 },
 "nbformat": 4,
 "nbformat_minor": 5
}
